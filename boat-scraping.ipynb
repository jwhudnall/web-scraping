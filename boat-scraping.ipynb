{
 "cells": [
  {
   "cell_type": "markdown",
   "metadata": {},
   "source": [
    "# Boat Scraping"
   ]
  },
  {
   "cell_type": "code",
   "execution_count": 51,
   "metadata": {},
   "outputs": [],
   "source": [
    "import requests\n",
    "from bs4 import BeautifulSoup\n",
    "from csv import writer\n",
    "\n",
    "agent = {\"User-Agent\":'Mozilla/5.0 (Windows NT 6.3; WOW64) AppleWebKit/537.36 (KHTML, like Gecko) Chrome/59.0.3071.115 Safari/537.36'}\n",
    "response = requests.get(url, headers=agent)\n",
    "soup = BeautifulSoup(response.text,\"html.parser\")"
   ]
  },
  {
   "cell_type": "code",
   "execution_count": 52,
   "metadata": {},
   "outputs": [],
   "source": [
    "soup = BeautifulSoup(response.text,\"html.parser\")"
   ]
  },
  {
   "cell_type": "code",
   "execution_count": 3,
   "metadata": {},
   "outputs": [],
   "source": [
    "#soup.find_all('table')"
   ]
  },
  {
   "cell_type": "markdown",
   "metadata": {},
   "source": [
    "# Need to make `latlon_clean[1]` Negative"
   ]
  },
  {
   "cell_type": "code",
   "execution_count": 53,
   "metadata": {
    "scrolled": true
   },
   "outputs": [],
   "source": [
    "table = soup.find_all(class_='v3')\n",
    "coords = table[9] # coordinate row\n",
    "text = coords.get_text() # Text from coordinate row\n",
    "latlon = text.split('/')\n",
    "latlon_clean = [val[:-2] for val in latlon]\n",
    "latlon_clean[1] = '-'+latlon_clean[1]  \n",
    "position = ', '.join(latlon_clean)"
   ]
  },
  {
   "cell_type": "code",
   "execution_count": 54,
   "metadata": {},
   "outputs": [
    {
     "data": {
      "text/plain": [
       "<td class=\"v3\">32.02369 N/81.04659 W</td>"
      ]
     },
     "execution_count": 54,
     "metadata": {},
     "output_type": "execute_result"
    }
   ],
   "source": [
    "coords"
   ]
  },
  {
   "cell_type": "code",
   "execution_count": 55,
   "metadata": {},
   "outputs": [
    {
     "data": {
      "text/plain": [
       "'32.02369 N/81.04659 W'"
      ]
     },
     "execution_count": 55,
     "metadata": {},
     "output_type": "execute_result"
    }
   ],
   "source": [
    "text"
   ]
  },
  {
   "cell_type": "code",
   "execution_count": 56,
   "metadata": {},
   "outputs": [
    {
     "data": {
      "text/plain": [
       "['32.02369 N', '81.04659 W']"
      ]
     },
     "execution_count": 56,
     "metadata": {},
     "output_type": "execute_result"
    }
   ],
   "source": [
    "latlon"
   ]
  },
  {
   "cell_type": "code",
   "execution_count": 57,
   "metadata": {},
   "outputs": [
    {
     "data": {
      "text/plain": [
       "['32.02369', '-81.04659']"
      ]
     },
     "execution_count": 57,
     "metadata": {},
     "output_type": "execute_result"
    }
   ],
   "source": [
    "latlon_clean"
   ]
  },
  {
   "cell_type": "code",
   "execution_count": 58,
   "metadata": {},
   "outputs": [
    {
     "data": {
      "text/plain": [
       "'32.02369, -81.04659'"
      ]
     },
     "execution_count": 58,
     "metadata": {},
     "output_type": "execute_result"
    }
   ],
   "source": [
    "position"
   ]
  },
  {
   "cell_type": "markdown",
   "metadata": {},
   "source": [
    "## Reverse Address Lookup Using Lat/Long\n",
    "`geopy` can reverse lookup an address from the lat/lon values."
   ]
  },
  {
   "cell_type": "code",
   "execution_count": 59,
   "metadata": {},
   "outputs": [],
   "source": [
    "from geopy.geocoders import Nominatim\n",
    "geolocator = Nominatim(user_agent=\"jwh\")\n",
    "physical = geolocator.reverse(position)\n",
    "location = physical.address"
   ]
  },
  {
   "cell_type": "code",
   "execution_count": 63,
   "metadata": {},
   "outputs": [
    {
     "data": {
      "text/plain": [
       "Location(Thunderbolt Marine Inc. Warehouse, 3124, River Drive, Thunderbolt, Chatham County, Georgia, 31404, United States, (32.0222342, -81.04666794933618, 0.0))"
      ]
     },
     "execution_count": 63,
     "metadata": {},
     "output_type": "execute_result"
    }
   ],
   "source": [
    "physical"
   ]
  },
  {
   "cell_type": "code",
   "execution_count": 61,
   "metadata": {},
   "outputs": [
    {
     "data": {
      "text/plain": [
       "'Thunderbolt Marine Inc. Warehouse, 3124, River Drive, Thunderbolt, Chatham County, Georgia, 31404, United States'"
      ]
     },
     "execution_count": 61,
     "metadata": {},
     "output_type": "execute_result"
    }
   ],
   "source": [
    "location"
   ]
  },
  {
   "cell_type": "code",
   "execution_count": 64,
   "metadata": {},
   "outputs": [
    {
     "data": {
      "text/plain": [
       "geopy.location.Location"
      ]
     },
     "execution_count": 64,
     "metadata": {},
     "output_type": "execute_result"
    }
   ],
   "source": [
    "type(physical)"
   ]
  },
  {
   "cell_type": "markdown",
   "metadata": {},
   "source": [
    "## Adding Time Delays\n",
    "We don't want to flood the website with traffic. \n",
    "\n",
    "`time.sleep(n)` pauses the code for n seconds"
   ]
  },
  {
   "cell_type": "code",
   "execution_count": 49,
   "metadata": {},
   "outputs": [
    {
     "name": "stdout",
     "output_type": "stream",
     "text": [
      "Start!\n",
      "Ok...its been long enough!\n"
     ]
    }
   ],
   "source": [
    "import time\n",
    "print('Start!')\n",
    "time.sleep(3)\n",
    "print('Ok...its been long enough!')"
   ]
  },
  {
   "cell_type": "markdown",
   "metadata": {},
   "source": [
    "## Putting it All Together\n",
    "Time to compile the entire script, including vessel URL dictionaries"
   ]
  },
  {
   "cell_type": "code",
   "execution_count": 3,
   "metadata": {
    "scrolled": true
   },
   "outputs": [
    {
     "name": "stderr",
     "output_type": "stream",
     "text": [
      "100%|██████████████████████████████████████████████████████████████████████████████████| 17/17 [00:32<00:00,  1.91s/it]"
     ]
    },
    {
     "name": "stdout",
     "output_type": "stream",
     "text": [
      "Finished. This script took 32.54650521278381 seconds to run\n"
     ]
    },
    {
     "name": "stderr",
     "output_type": "stream",
     "text": [
      "\n"
     ]
    }
   ],
   "source": [
    "import requests\n",
    "import time\n",
    "from bs4 import BeautifulSoup\n",
    "from csv import writer\n",
    "from geopy.geocoders import Nominatim\n",
    "from tqdm import tqdm\n",
    "\n",
    "\n",
    "agent = {\"User-Agent\":'Mozilla/5.0 (Windows NT 6.3; WOW64) AppleWebKit/537.36 (KHTML, like Gecko) Chrome/59.0.3071.115 Safari/537.36'}\n",
    "geolocator = Nominatim(user_agent=\"jwh\")\n",
    "timestamp = time.strftime('%Y%m%d-%I_%M_%p')\n",
    "filename = timestamp + '-Fleet Location.csv'\n",
    "\n",
    "boats = {\n",
    "    \"Brangus\": \"https://www.vesselfinder.com/vessels/BRANGUS-IMO-0-MMSI-366899270\",\n",
    "    \"Calcasieu River\": \"https://www.vesselfinder.com/vessels/CALCASIEU-RIVER-IMO-0-MMSI-367313850\",\n",
    "    \"Cavalier State\": \"https://www.vesselfinder.com/vessels/CAVALIER-STATE-IMO-0-MMSI-367340130\",\n",
    "    \"Columbia River\": \"https://www.vesselfinder.com/vessels/COLUMBIA-RIVER-IMO-0-MMSI-367187130\",\n",
    "    \"Cooper River\": \"https://www.vesselfinder.com/vessels/COOPER-RIVER-IMO-0-MMSI-366867370\",\n",
    "    \"East River\": \"https://www.vesselfinder.com/vessels/EAST-RIVER-IMO-0-MMSI-366898790\",\n",
    "    \"Evergreen State\": \"https://www.vesselfinder.com/vessels/EVERGREEN-STATE-IMO-0-MMSI-367156370\",\n",
    "    \"Lone Star State\": \"https://www.vesselfinder.com/vessels/LONESTAR-STATE-IMO-0-MMSI-367183730\",\n",
    "    \"McCormack Boys\": \"https://www.vesselfinder.com/vessels/MCCORMACK-BOYS-IMO-0-MMSI-366872170\",\n",
    "    \"Miami River\": \"https://www.vesselfinder.com/vessels/MIAMI-RIVER-IMO-0-MMSI-366898810\",\n",
    "    \"Muskegon River\": \"https://www.vesselfinder.com/vessels/MUSKEGON-RIVER-IMO-0-MMSI-367509760\",\n",
    "    \"Ohio River\": \"https://www.vesselfinder.com/vessels/OHIO-RIVER-IMO-0-MMSI-366899290\",\n",
    "    \"Pearl River\": \"https://www.vesselfinder.com/vessels/PEARL-RIVER-IMO-0-MMSI-367187120\",\n",
    "    \"Saginaw River\": \"https://www.vesselfinder.com/vessels/SAGINAW-RIVER-IMO-0-MMSI-367511230\",\n",
    "    \"St Johns River\": \"https://www.vesselfinder.com/vessels/SAINT-JOHNS-RIVER-IMO-0-MMSI-367313760\",\n",
    "    \"St Louis River\": \"https://www.vesselfinder.com/vessels/ST-LOUIS-RIVER-IMO-0-MMSI-367609770\",\n",
    "    \"Volunteer State\": \"https://www.vesselfinder.com/vessels/VOLUNTEER-STATE-IMO-0-MMSI-367314110\",\n",
    "    \"Wolf River\": \"https://www.vesselfinder.com/vessels/WOLF-RIVER-IMO-0-MMSI-367060910\"\n",
    "    }\n",
    "\n",
    "start = time.time()\n",
    "\n",
    "with open(filename, 'w', newline='') as file:\n",
    "    csv_writer = writer(file)\n",
    "    \n",
    "    # Add Headers\n",
    "    csv_writer.writerow(['Vessel', 'Lat-Long','Last Update','Address'])\n",
    "    \n",
    "    for boat, url in tqdm(boats.items()):\n",
    "        response = requests.get(url, headers=agent)\n",
    "        soup = BeautifulSoup(response.text,\"html.parser\")\n",
    "        \n",
    "        # Isolate table of interest\n",
    "        table = soup.find_all(class_='v3')\n",
    "        \n",
    "        # Isolate and clean lat, long coordinates\n",
    "        coords = table[9] # coordinate row\n",
    "        text = coords.get_text() # Text from coordinate row\n",
    "        latlon = text.split('/')\n",
    "        latlon_clean = [val[:-2] for val in latlon]\n",
    "        latlon_clean[1] = '-'+latlon_clean[1]  \n",
    "        position = ', '.join(latlon_clean)\n",
    "        # Reverse lat-lon lookup, giving address\n",
    "        physical = geolocator.reverse(position)\n",
    "        location = physical.address\n",
    "        \n",
    "        # Isolate and clean last position update\n",
    "        time_since_last_position = table[11].get_text() # coordinate row\n",
    "        cleaned_time = time_since_last_position[:-3]\n",
    "        \n",
    "        \n",
    "        # Write results to spreadsheet row\n",
    "        csv_writer.writerow([boat, position, cleaned_time, location])\n",
    "        \n",
    "        # Wait n seconds in between requests\n",
    "        time.sleep(1)\n",
    "        \n",
    "end = time.time()\n",
    "duration = end - start\n",
    "\n",
    "print(f'Finished. This script took {duration} seconds to run')"
   ]
  },
  {
   "cell_type": "code",
   "execution_count": 4,
   "metadata": {},
   "outputs": [
    {
     "data": {
      "text/plain": [
       "17"
      ]
     },
     "execution_count": 4,
     "metadata": {},
     "output_type": "execute_result"
    }
   ],
   "source": [
    "len(boats)"
   ]
  },
  {
   "cell_type": "markdown",
   "metadata": {},
   "source": [
    "## View Data with Pandas"
   ]
  },
  {
   "cell_type": "code",
   "execution_count": 21,
   "metadata": {},
   "outputs": [],
   "source": [
    "import pandas as pd\n",
    "\n",
    "\n",
    "df = pd.read_csv('20201228-08_29_PM-Fleet Location.csv')"
   ]
  },
  {
   "cell_type": "code",
   "execution_count": 22,
   "metadata": {},
   "outputs": [
    {
     "data": {
      "text/html": [
       "<div>\n",
       "<style scoped>\n",
       "    .dataframe tbody tr th:only-of-type {\n",
       "        vertical-align: middle;\n",
       "    }\n",
       "\n",
       "    .dataframe tbody tr th {\n",
       "        vertical-align: top;\n",
       "    }\n",
       "\n",
       "    .dataframe thead th {\n",
       "        text-align: right;\n",
       "    }\n",
       "</style>\n",
       "<table border=\"1\" class=\"dataframe\">\n",
       "  <thead>\n",
       "    <tr style=\"text-align: right;\">\n",
       "      <th></th>\n",
       "      <th>Vessel</th>\n",
       "      <th>Lat-Long</th>\n",
       "      <th>Last Update</th>\n",
       "      <th>Address</th>\n",
       "    </tr>\n",
       "  </thead>\n",
       "  <tbody>\n",
       "    <tr>\n",
       "      <th>0</th>\n",
       "      <td>Brangus</td>\n",
       "      <td>39.37314, -74.42712</td>\n",
       "      <td>49 days ago</td>\n",
       "      <td>710, North Maryland Avenue, Carver Hall Apartm...</td>\n",
       "    </tr>\n",
       "    <tr>\n",
       "      <th>1</th>\n",
       "      <td>Calcasieu River</td>\n",
       "      <td>32.76257, -79.92533</td>\n",
       "      <td>78 days ago</td>\n",
       "      <td>Charleston, Charleston County, South Carolina,...</td>\n",
       "    </tr>\n",
       "    <tr>\n",
       "      <th>2</th>\n",
       "      <td>Cavalier State</td>\n",
       "      <td>32.02369, -81.04659</td>\n",
       "      <td>6 days ago</td>\n",
       "      <td>Thunderbolt Marine Inc. Warehouse, 3124, River...</td>\n",
       "    </tr>\n",
       "    <tr>\n",
       "      <th>3</th>\n",
       "      <td>Columbia River</td>\n",
       "      <td>30.38538, -81.55102</td>\n",
       "      <td>2 min ago</td>\n",
       "      <td>Propeller Drive, Jacksonville, Duval County, F...</td>\n",
       "    </tr>\n",
       "    <tr>\n",
       "      <th>4</th>\n",
       "      <td>Cooper River</td>\n",
       "      <td>32.8328, -79.94211</td>\n",
       "      <td>1 min ago</td>\n",
       "      <td>Herbert Street, Hibernian Heights, Charleston,...</td>\n",
       "    </tr>\n",
       "    <tr>\n",
       "      <th>5</th>\n",
       "      <td>East River</td>\n",
       "      <td>32.83273, -79.9423</td>\n",
       "      <td>5 hours ago</td>\n",
       "      <td>Herbert Street, Hibernian Heights, Charleston,...</td>\n",
       "    </tr>\n",
       "    <tr>\n",
       "      <th>6</th>\n",
       "      <td>Evergreen State</td>\n",
       "      <td>26.76782, -80.04475</td>\n",
       "      <td>10 hours ago</td>\n",
       "      <td>Peanut Island Shutte Boat, Lake Court, Palm Be...</td>\n",
       "    </tr>\n",
       "    <tr>\n",
       "      <th>7</th>\n",
       "      <td>Lone Star State</td>\n",
       "      <td>30.49491, -88.0194</td>\n",
       "      <td>196 days ago</td>\n",
       "      <td>Mobile County, Alabama, United States</td>\n",
       "    </tr>\n",
       "    <tr>\n",
       "      <th>8</th>\n",
       "      <td>McCormack Boys</td>\n",
       "      <td>37.01095, -76.23765</td>\n",
       "      <td>26 days ago</td>\n",
       "      <td>Thimble Shoal Light, Hampton City, Virginia, U...</td>\n",
       "    </tr>\n",
       "    <tr>\n",
       "      <th>9</th>\n",
       "      <td>Miami River</td>\n",
       "      <td>31.10606, -81.44053</td>\n",
       "      <td>2 min ago</td>\n",
       "      <td>Brunswick, Glynn County, Georgia, United States</td>\n",
       "    </tr>\n",
       "    <tr>\n",
       "      <th>10</th>\n",
       "      <td>Muskegon River</td>\n",
       "      <td>29.91625, -81.29941</td>\n",
       "      <td>27 mins ago</td>\n",
       "      <td>Inlet Marina, Francis and Mary Usina Bridge, V...</td>\n",
       "    </tr>\n",
       "    <tr>\n",
       "      <th>11</th>\n",
       "      <td>Ohio River</td>\n",
       "      <td>30.40363, -88.85805</td>\n",
       "      <td>2 hours ago</td>\n",
       "      <td>Michael Industrial Boulevard, Biloxi, Harrison...</td>\n",
       "    </tr>\n",
       "    <tr>\n",
       "      <th>12</th>\n",
       "      <td>Pearl River</td>\n",
       "      <td>32.83284, -79.94215</td>\n",
       "      <td>1 min ago</td>\n",
       "      <td>Herbert Street, Hibernian Heights, Charleston,...</td>\n",
       "    </tr>\n",
       "    <tr>\n",
       "      <th>13</th>\n",
       "      <td>Saginaw River</td>\n",
       "      <td>37.99439, -75.18645</td>\n",
       "      <td>17 days ago</td>\n",
       "      <td>Pitts Island, Chincoteague, Accomack County, V...</td>\n",
       "    </tr>\n",
       "    <tr>\n",
       "      <th>14</th>\n",
       "      <td>St Johns River</td>\n",
       "      <td>32.83293, -79.94202</td>\n",
       "      <td>1 min ago</td>\n",
       "      <td>Herbert Street, Hibernian Heights, Charleston,...</td>\n",
       "    </tr>\n",
       "    <tr>\n",
       "      <th>15</th>\n",
       "      <td>Volunteer State</td>\n",
       "      <td>39.38546, -74.42284</td>\n",
       "      <td>49 days ago</td>\n",
       "      <td>Brigantine Boulevard, Atlantic City, Atlantic ...</td>\n",
       "    </tr>\n",
       "    <tr>\n",
       "      <th>16</th>\n",
       "      <td>Wolf River</td>\n",
       "      <td>34.58997, -76.74306</td>\n",
       "      <td>15 days ago</td>\n",
       "      <td>Money Island, Carteret County, North Carolina,...</td>\n",
       "    </tr>\n",
       "  </tbody>\n",
       "</table>\n",
       "</div>"
      ],
      "text/plain": [
       "             Vessel             Lat-Long   Last Update  \\\n",
       "0           Brangus  39.37314, -74.42712   49 days ago   \n",
       "1   Calcasieu River  32.76257, -79.92533   78 days ago   \n",
       "2    Cavalier State  32.02369, -81.04659    6 days ago   \n",
       "3    Columbia River  30.38538, -81.55102     2 min ago   \n",
       "4      Cooper River   32.8328, -79.94211     1 min ago   \n",
       "5        East River   32.83273, -79.9423   5 hours ago   \n",
       "6   Evergreen State  26.76782, -80.04475  10 hours ago   \n",
       "7   Lone Star State   30.49491, -88.0194  196 days ago   \n",
       "8    McCormack Boys  37.01095, -76.23765   26 days ago   \n",
       "9       Miami River  31.10606, -81.44053     2 min ago   \n",
       "10   Muskegon River  29.91625, -81.29941   27 mins ago   \n",
       "11       Ohio River  30.40363, -88.85805   2 hours ago   \n",
       "12      Pearl River  32.83284, -79.94215     1 min ago   \n",
       "13    Saginaw River  37.99439, -75.18645   17 days ago   \n",
       "14   St Johns River  32.83293, -79.94202     1 min ago   \n",
       "15  Volunteer State  39.38546, -74.42284   49 days ago   \n",
       "16       Wolf River  34.58997, -76.74306   15 days ago   \n",
       "\n",
       "                                              Address  \n",
       "0   710, North Maryland Avenue, Carver Hall Apartm...  \n",
       "1   Charleston, Charleston County, South Carolina,...  \n",
       "2   Thunderbolt Marine Inc. Warehouse, 3124, River...  \n",
       "3   Propeller Drive, Jacksonville, Duval County, F...  \n",
       "4   Herbert Street, Hibernian Heights, Charleston,...  \n",
       "5   Herbert Street, Hibernian Heights, Charleston,...  \n",
       "6   Peanut Island Shutte Boat, Lake Court, Palm Be...  \n",
       "7               Mobile County, Alabama, United States  \n",
       "8   Thimble Shoal Light, Hampton City, Virginia, U...  \n",
       "9     Brunswick, Glynn County, Georgia, United States  \n",
       "10  Inlet Marina, Francis and Mary Usina Bridge, V...  \n",
       "11  Michael Industrial Boulevard, Biloxi, Harrison...  \n",
       "12  Herbert Street, Hibernian Heights, Charleston,...  \n",
       "13  Pitts Island, Chincoteague, Accomack County, V...  \n",
       "14  Herbert Street, Hibernian Heights, Charleston,...  \n",
       "15  Brigantine Boulevard, Atlantic City, Atlantic ...  \n",
       "16  Money Island, Carteret County, North Carolina,...  "
      ]
     },
     "execution_count": 22,
     "metadata": {},
     "output_type": "execute_result"
    }
   ],
   "source": [
    "df"
   ]
  },
  {
   "cell_type": "code",
   "execution_count": 6,
   "metadata": {},
   "outputs": [],
   "source": [
    "import requests\n",
    "import time\n",
    "from bs4 import BeautifulSoup\n",
    "from csv import writer\n",
    "from geopy.geocoders import Nominatim\n",
    "\n",
    "agent = {\"User-Agent\":'Mozilla/5.0 (Windows NT 6.3; WOW64) AppleWebKit/537.36 (KHTML, like Gecko) Chrome/59.0.3071.115 Safari/537.36'}\n",
    "geolocator = Nominatim(user_agent=\"jwh\")\n",
    "url = 'https://www.vesselfinder.com/vessels/MIAMI-RIVER-IMO-0-MMSI-366898810'"
   ]
  },
  {
   "cell_type": "code",
   "execution_count": 7,
   "metadata": {},
   "outputs": [],
   "source": [
    "response = requests.get(url, headers=agent)"
   ]
  },
  {
   "cell_type": "code",
   "execution_count": 9,
   "metadata": {},
   "outputs": [],
   "source": [
    "soup = BeautifulSoup(response.text,\"html.parser\")"
   ]
  },
  {
   "cell_type": "code",
   "execution_count": 10,
   "metadata": {},
   "outputs": [
    {
     "data": {
      "text/plain": [
       "[<table class=\"tparams npctable\">\n",
       " <thead><tr class=\"table-header\"><th class=\"v31\">Current AIS Destination</th><th class=\"v31\">Estimated Time of Arrival</th></tr></thead>\n",
       " <tbody>\n",
       " <tr><td class=\"n3ata\">-</td><td class=\"n3ata\">-</td></tr>\n",
       " </tbody>\n",
       " </table>,\n",
       " <table class=\"tparams\">\n",
       " <thead><tr><th class=\"text1\">Port</th><th class=\"text1\">Arrival (UTC)</th><th class=\"text1\">In Port</th></tr></thead>\n",
       " <tbody class=\"pctable\" id=\"port-calls\"></tbody></table>,\n",
       " <table class=\"tparams\"><tbody>\n",
       " <tr><td class=\"n3\">AIS Type</td><td class=\"v3\">Port tender</td></tr>\n",
       " <tr><td class=\"n3\">Flag</td><td class=\"v3\">USA</td></tr>\n",
       " <tr><td class=\"n3\">Destination</td><td class=\"v3\">-</td></tr>\n",
       " <tr><td class=\"n3\">ETA</td><td class=\"v3\">-</td></tr>\n",
       " <tr><td class=\"n3\">IMO / MMSI</td><td class=\"v3\"> -  / 366898810</td></tr>\n",
       " <tr><td class=\"n3\">Callsign</td><td class=\"v3\">WDB4478</td></tr>\n",
       " <tr><td class=\"n3\">Length / Beam</td><td class=\"v3\">12 / 4 m</td></tr>\n",
       " <tr><td class=\"n3\">Current draught</td><td class=\"v3\">1.2 m</td></tr>\n",
       " <tr><td class=\"n3\">Course / Speed</td><td class=\"v3\">- / 0.0 kn</td></tr>\n",
       " <tr><td class=\"n3\">Coordinates</td><td class=\"v3\">31.10613 N/81.44057 W</td></tr>\n",
       " <tr><td class=\"n3\">Status</td><td class=\"v3 tooltip expand\" data-title=\"Under way using engine\">Under way</td></tr>\n",
       " <tr><td class=\"n3\">Position received</td>\n",
       " <td class=\"v3 tooltip expand\" data-title=\"Dec 29, 2020 01:20 UTC\" id=\"lastrep\"><span class=\"\">2 min ago </span> <span class=\"info\"><i>i</i></span></td>\n",
       " </tr>\n",
       " </tbody></table>]"
      ]
     },
     "execution_count": 10,
     "metadata": {},
     "output_type": "execute_result"
    }
   ],
   "source": [
    "soup.find_all('table')"
   ]
  },
  {
   "cell_type": "code",
   "execution_count": 18,
   "metadata": {},
   "outputs": [],
   "source": [
    "table = soup.find_all(class_='v3')\n",
    "time_since_last_position = table[11].get_text() # coordinate row\n",
    "cleaned_time = time_since_last_position[:-3]"
   ]
  },
  {
   "cell_type": "code",
   "execution_count": 19,
   "metadata": {},
   "outputs": [
    {
     "data": {
      "text/plain": [
       "'2 min ago'"
      ]
     },
     "execution_count": 19,
     "metadata": {},
     "output_type": "execute_result"
    }
   ],
   "source": [
    "cleaned_time"
   ]
  },
  {
   "cell_type": "code",
   "execution_count": null,
   "metadata": {},
   "outputs": [],
   "source": [
    "# Find current lat, lon coordinates\n",
    "table = soup.find_all(class_='v3')\n",
    "coords = table[9] # coordinate row\n",
    "text = coords.get_text() # Text from coordinate row\n",
    "latlon = text.split('/')\n",
    "latlon_clean = [val[:-2] for val in latlon]\n",
    "latlon_clean[1] = '-'+latlon_clean[1]  \n",
    "position = ', '.join(latlon_clean)\n",
    "\n",
    "# Reverse lat-lon lookup, giving address\n",
    "physical = geolocator.reverse(position)\n",
    "location = physical.address"
   ]
  },
  {
   "cell_type": "code",
   "execution_count": 24,
   "metadata": {},
   "outputs": [
    {
     "name": "stdout",
     "output_type": "stream",
     "text": [
      "\n",
      "Note: you may need to restart the kernel to use updated packages.\n"
     ]
    }
   ],
   "source": [
    "conda install progress"
   ]
  },
  {
   "cell_type": "code",
   "execution_count": null,
   "metadata": {},
   "outputs": [],
   "source": []
  }
 ],
 "metadata": {
  "kernelspec": {
   "display_name": "Python 3",
   "language": "python",
   "name": "python3"
  },
  "language_info": {
   "codemirror_mode": {
    "name": "ipython",
    "version": 3
   },
   "file_extension": ".py",
   "mimetype": "text/x-python",
   "name": "python",
   "nbconvert_exporter": "python",
   "pygments_lexer": "ipython3",
   "version": "3.9.1"
  }
 },
 "nbformat": 4,
 "nbformat_minor": 4
}
