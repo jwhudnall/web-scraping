{
 "cells": [
  {
   "cell_type": "markdown",
   "metadata": {},
   "source": [
    "# Boat Scraping"
   ]
  },
  {
   "cell_type": "code",
   "execution_count": 51,
   "metadata": {},
   "outputs": [],
   "source": [
    "import requests\n",
    "from bs4 import BeautifulSoup\n",
    "from csv import writer\n",
    "\n",
    "agent = {\"User-Agent\":'Mozilla/5.0 (Windows NT 6.3; WOW64) AppleWebKit/537.36 (KHTML, like Gecko) Chrome/59.0.3071.115 Safari/537.36'}\n",
    "response = requests.get(url, headers=agent)\n",
    "soup = BeautifulSoup(response.text,\"html.parser\")"
   ]
  },
  {
   "cell_type": "code",
   "execution_count": 52,
   "metadata": {},
   "outputs": [],
   "source": [
    "soup = BeautifulSoup(response.text,\"html.parser\")"
   ]
  },
  {
   "cell_type": "code",
   "execution_count": 3,
   "metadata": {},
   "outputs": [],
   "source": [
    "#soup.find_all('table')"
   ]
  },
  {
   "cell_type": "markdown",
   "metadata": {},
   "source": [
    "# Need to make `latlon_clean[1]` Negative"
   ]
  },
  {
   "cell_type": "code",
   "execution_count": 53,
   "metadata": {
    "scrolled": true
   },
   "outputs": [],
   "source": [
    "table = soup.find_all(class_='v3')\n",
    "coords = table[9] # coordinate row\n",
    "text = coords.get_text() # Text from coordinate row\n",
    "latlon = text.split('/')\n",
    "latlon_clean = [val[:-2] for val in latlon]\n",
    "latlon_clean[1] = '-'+latlon_clean[1]  \n",
    "position = ', '.join(latlon_clean)"
   ]
  },
  {
   "cell_type": "code",
   "execution_count": 54,
   "metadata": {},
   "outputs": [
    {
     "data": {
      "text/plain": [
       "<td class=\"v3\">32.02369 N/81.04659 W</td>"
      ]
     },
     "execution_count": 54,
     "metadata": {},
     "output_type": "execute_result"
    }
   ],
   "source": [
    "coords"
   ]
  },
  {
   "cell_type": "code",
   "execution_count": 55,
   "metadata": {},
   "outputs": [
    {
     "data": {
      "text/plain": [
       "'32.02369 N/81.04659 W'"
      ]
     },
     "execution_count": 55,
     "metadata": {},
     "output_type": "execute_result"
    }
   ],
   "source": [
    "text"
   ]
  },
  {
   "cell_type": "code",
   "execution_count": 56,
   "metadata": {},
   "outputs": [
    {
     "data": {
      "text/plain": [
       "['32.02369 N', '81.04659 W']"
      ]
     },
     "execution_count": 56,
     "metadata": {},
     "output_type": "execute_result"
    }
   ],
   "source": [
    "latlon"
   ]
  },
  {
   "cell_type": "code",
   "execution_count": 57,
   "metadata": {},
   "outputs": [
    {
     "data": {
      "text/plain": [
       "['32.02369', '-81.04659']"
      ]
     },
     "execution_count": 57,
     "metadata": {},
     "output_type": "execute_result"
    }
   ],
   "source": [
    "latlon_clean"
   ]
  },
  {
   "cell_type": "code",
   "execution_count": 58,
   "metadata": {},
   "outputs": [
    {
     "data": {
      "text/plain": [
       "'32.02369, -81.04659'"
      ]
     },
     "execution_count": 58,
     "metadata": {},
     "output_type": "execute_result"
    }
   ],
   "source": [
    "position"
   ]
  },
  {
   "cell_type": "markdown",
   "metadata": {},
   "source": [
    "## Reverse Address Lookup Using Lat/Long\n",
    "`geopy` can reverse lookup an address from the lat/lon values."
   ]
  },
  {
   "cell_type": "code",
   "execution_count": 59,
   "metadata": {},
   "outputs": [],
   "source": [
    "from geopy.geocoders import Nominatim\n",
    "geolocator = Nominatim(user_agent=\"jwh\")\n",
    "physical = geolocator.reverse(position)\n",
    "location = physical.address"
   ]
  },
  {
   "cell_type": "code",
   "execution_count": 63,
   "metadata": {},
   "outputs": [
    {
     "data": {
      "text/plain": [
       "Location(Thunderbolt Marine Inc. Warehouse, 3124, River Drive, Thunderbolt, Chatham County, Georgia, 31404, United States, (32.0222342, -81.04666794933618, 0.0))"
      ]
     },
     "execution_count": 63,
     "metadata": {},
     "output_type": "execute_result"
    }
   ],
   "source": [
    "physical"
   ]
  },
  {
   "cell_type": "code",
   "execution_count": 61,
   "metadata": {},
   "outputs": [
    {
     "data": {
      "text/plain": [
       "'Thunderbolt Marine Inc. Warehouse, 3124, River Drive, Thunderbolt, Chatham County, Georgia, 31404, United States'"
      ]
     },
     "execution_count": 61,
     "metadata": {},
     "output_type": "execute_result"
    }
   ],
   "source": [
    "location"
   ]
  },
  {
   "cell_type": "code",
   "execution_count": 64,
   "metadata": {},
   "outputs": [
    {
     "data": {
      "text/plain": [
       "geopy.location.Location"
      ]
     },
     "execution_count": 64,
     "metadata": {},
     "output_type": "execute_result"
    }
   ],
   "source": [
    "type(physical)"
   ]
  },
  {
   "cell_type": "markdown",
   "metadata": {},
   "source": [
    "## Adding Time Delays\n",
    "We don't want to flood the website with traffic. \n",
    "\n",
    "`time.sleep(n)` pauses the code for n seconds"
   ]
  },
  {
   "cell_type": "code",
   "execution_count": 49,
   "metadata": {},
   "outputs": [
    {
     "name": "stdout",
     "output_type": "stream",
     "text": [
      "Start!\n",
      "Ok...its been long enough!\n"
     ]
    }
   ],
   "source": [
    "import time\n",
    "print('Start!')\n",
    "time.sleep(3)\n",
    "print('Ok...its been long enough!')"
   ]
  },
  {
   "cell_type": "markdown",
   "metadata": {},
   "source": [
    "## Putting it All Together\n",
    "Time to compile the entire script, including vessel URL dictionaries"
   ]
  },
  {
   "cell_type": "code",
   "execution_count": 7,
   "metadata": {
    "scrolled": true
   },
   "outputs": [
    {
     "name": "stderr",
     "output_type": "stream",
     "text": [
      "100%|██████████████████████████████████████████████████████████████████████████████████| 18/18 [00:32<00:00,  1.78s/it]"
     ]
    },
    {
     "name": "stdout",
     "output_type": "stream",
     "text": [
      "Finished. This script took 32.0228226184845 seconds to run\n"
     ]
    },
    {
     "name": "stderr",
     "output_type": "stream",
     "text": [
      "\n"
     ]
    }
   ],
   "source": [
    "import requests\n",
    "import time\n",
    "import os\n",
    "from bs4 import BeautifulSoup\n",
    "from csv import writer\n",
    "from geopy.geocoders import Nominatim\n",
    "from tqdm import tqdm\n",
    "\n",
    "\n",
    "agent = {\"User-Agent\":'Mozilla/5.0 (Windows NT 6.3; WOW64) AppleWebKit/537.36 (KHTML, like Gecko) Chrome/59.0.3071.115 Safari/537.36'}\n",
    "geolocator = Nominatim(user_agent=\"jwh\")\n",
    "timestamp = time.strftime('%Y%m%d-%I_%M_%p')\n",
    "\n",
    "git st\n",
    "\n",
    "boats = {\n",
    "    \"Brangus\": \"https://www.vesselfinder.com/vessels/BRANGUS-IMO-0-MMSI-366899270\",\n",
    "    \"Calcasieu River\": \"https://www.vesselfinder.com/vessels/CALCASIEU-RIVER-IMO-0-MMSI-367313850\",\n",
    "    \"Cavalier State\": \"https://www.vesselfinder.com/vessels/CAVALIER-STATE-IMO-0-MMSI-367340130\",\n",
    "    \"Columbia River\": \"https://www.vesselfinder.com/vessels/COLUMBIA-RIVER-IMO-0-MMSI-367187130\",\n",
    "    \"Cooper River\": \"https://www.vesselfinder.com/vessels/COOPER-RIVER-IMO-0-MMSI-366867370\",\n",
    "    \"East River\": \"https://www.vesselfinder.com/vessels/EAST-RIVER-IMO-0-MMSI-366898790\",\n",
    "    \"Evergreen State\": \"https://www.vesselfinder.com/vessels/EVERGREEN-STATE-IMO-0-MMSI-367156370\",\n",
    "    \"Lone Star State\": \"https://www.vesselfinder.com/vessels/LONESTAR-STATE-IMO-0-MMSI-367183730\",\n",
    "    \"McCormack Boys\": \"https://www.vesselfinder.com/vessels/MCCORMACK-BOYS-IMO-0-MMSI-366872170\",\n",
    "    \"Miami River\": \"https://www.vesselfinder.com/vessels/MIAMI-RIVER-IMO-0-MMSI-366898810\",\n",
    "    \"Muskegon River\": \"https://www.vesselfinder.com/vessels/MUSKEGON-RIVER-IMO-0-MMSI-367509760\",\n",
    "    \"Ohio River\": \"https://www.vesselfinder.com/vessels/OHIO-RIVER-IMO-0-MMSI-366899290\",\n",
    "    \"Pearl River\": \"https://www.vesselfinder.com/vessels/PEARL-RIVER-IMO-0-MMSI-367187120\",\n",
    "    \"Saginaw River\": \"https://www.vesselfinder.com/vessels/SAGINAW-RIVER-IMO-0-MMSI-367511230\",\n",
    "    \"St Johns River\": \"https://www.vesselfinder.com/vessels/SAINT-JOHNS-RIVER-IMO-0-MMSI-367313760\",\n",
    "    \"St Louis River\": \"https://www.vesselfinder.com/vessels/ST-LOUIS-RIVER-IMO-0-MMSI-367609770\",\n",
    "    \"Volunteer State\": \"https://www.vesselfinder.com/vessels/VOLUNTEER-STATE-IMO-0-MMSI-367314110\",\n",
    "    \"Wolf River\": \"https://www.vesselfinder.com/vessels/WOLF-RIVER-IMO-0-MMSI-367060910\"\n",
    "    }\n",
    "\n",
    "def abbreviate_state(state):\n",
    "    state_dict = {\n",
    "    'Alabama': 'AL',\n",
    "    'Alaska': 'AK',\n",
    "    'American Samoa': 'AS',\n",
    "    'Arizona': 'AZ',\n",
    "    'Arkansas': 'AR',\n",
    "    'California': 'CA',\n",
    "    'Colorado': 'CO',\n",
    "    'Connecticut': 'CT',\n",
    "    'Delaware': 'DE',\n",
    "    'District of Columbia': 'DC',\n",
    "    'Florida': 'FL',\n",
    "    'Georgia': 'GA',\n",
    "    'Guam': 'GU',\n",
    "    'Hawaii': 'HI',\n",
    "    'Idaho': 'ID',\n",
    "    'Illinois': 'IL',\n",
    "    'Indiana': 'IN',\n",
    "    'Iowa': 'IA',\n",
    "    'Kansas': 'KS',\n",
    "    'Kentucky': 'KY',\n",
    "    'Louisiana': 'LA',\n",
    "    'Maine': 'ME',\n",
    "    'Maryland': 'MD',\n",
    "    'Massachusetts': 'MA',\n",
    "    'Michigan': 'MI',\n",
    "    'Minnesota': 'MN',\n",
    "    'Mississippi': 'MS',\n",
    "    'Missouri': 'MO',\n",
    "    'Montana': 'MT',\n",
    "    'Nebraska': 'NE',\n",
    "    'Nevada': 'NV',\n",
    "    'New Hampshire': 'NH',\n",
    "    'New Jersey': 'NJ',\n",
    "    'New Mexico': 'NM',\n",
    "    'New York': 'NY',\n",
    "    'North Carolina': 'NC',\n",
    "    'North Dakota': 'ND',\n",
    "    'Northern Mariana Islands':'MP',\n",
    "    'Ohio': 'OH',\n",
    "    'Oklahoma': 'OK',\n",
    "    'Oregon': 'OR',\n",
    "    'Pennsylvania': 'PA',\n",
    "    'Puerto Rico': 'PR',\n",
    "    'Rhode Island': 'RI',\n",
    "    'South Carolina': 'SC',\n",
    "    'South Dakota': 'SD',\n",
    "    'Tennessee': 'TN',\n",
    "    'Texas': 'TX',\n",
    "    'Utah': 'UT',\n",
    "    'Vermont': 'VT',\n",
    "    'Virgin Islands': 'VI',\n",
    "    'Virginia': 'VA',\n",
    "    'Washington': 'WA',\n",
    "    'West Virginia': 'WV',\n",
    "    'Wisconsin': 'WI',\n",
    "    'Wyoming': 'WY'\n",
    "    }\n",
    "    if state in state_dict:\n",
    "        state = state_dict[state]\n",
    "    return state\n",
    "\n",
    "def get_city(raw):\n",
    "    if 'city' in raw['address']:\n",
    "        town = raw['address']['city']\n",
    "        \n",
    "    elif 'town' in raw['address']:\n",
    "        town = raw['address']['town']\n",
    "        \n",
    "    elif 'village' in raw['address']:\n",
    "        town = raw['address']['village']\n",
    "        \n",
    "    elif 'county' in raw['address']:\n",
    "        town = raw['address']['county']\n",
    "        \n",
    "    else:\n",
    "        town = 'Error'\n",
    "        \n",
    "    return town\n",
    "\n",
    "\n",
    "start = time.time()\n",
    "\n",
    "with open(scrape_file, 'w', newline='') as file:\n",
    "    csv_writer = writer(file)\n",
    "    \n",
    "    # Add Headers\n",
    "    csv_writer.writerow(['Vessel', 'Lat-Long','Last Update','City', 'State'])\n",
    "    \n",
    "    for boat, url in tqdm(boats.items()):\n",
    "        response = requests.get(url, headers=agent)\n",
    "        soup = BeautifulSoup(response.text,\"html.parser\")\n",
    "        \n",
    "        # Isolate table of interest\n",
    "        table = soup.find_all(class_='v3')\n",
    "        \n",
    "        # Isolate and clean lat, long coordinates\n",
    "        coords = table[9] # coordinate row\n",
    "        text = coords.get_text() # Text from coordinate row\n",
    "        latlon = text.split('/')\n",
    "        latlon_clean = [val[:-2] for val in latlon]\n",
    "        latlon_clean[1] = '-'+latlon_clean[1]  \n",
    "        position = ', '.join(latlon_clean)\n",
    "        \n",
    "        # Reverse lat-lon lookup, isolating town, state\n",
    "        physical = geolocator.reverse(position)\n",
    "#         location = physical.address # Gives full address. Too much for our needs.\n",
    "        vessel_raw = physical.raw\n",
    "    \n",
    "        town = get_city(vessel_raw)\n",
    "        state = vessel_raw['address']['state']\n",
    "        # Abbreviate state from full name to a 2-letter code\n",
    "        state = abbreviate_state(state)\n",
    "        \n",
    "        # Isolate and clean last position update\n",
    "        time_since_last_position = table[11].get_text() # coordinate row\n",
    "        cleaned_time = time_since_last_position[:-3]\n",
    "        \n",
    "        # Write results to spreadsheet row\n",
    "        csv_writer.writerow([boat, position, cleaned_time, town, state])\n",
    "        \n",
    "        # Wait n seconds in between requests\n",
    "        time.sleep(1)\n",
    "        \n",
    "end = time.time()\n",
    "duration = end - start\n",
    "\n",
    "print(f'Finished. This script took {duration} seconds to run')"
   ]
  },
  {
   "cell_type": "markdown",
   "metadata": {},
   "source": [
    "## View Data with Pandas"
   ]
  },
  {
   "cell_type": "code",
   "execution_count": 10,
   "metadata": {},
   "outputs": [],
   "source": [
    "import pandas as pd\n",
    "\n",
    "\n",
    "df = pd.read_csv('data/20201229-10_50_AM-Fleet Location.csv')"
   ]
  },
  {
   "cell_type": "code",
   "execution_count": 11,
   "metadata": {},
   "outputs": [
    {
     "data": {
      "text/html": [
       "<div>\n",
       "<style scoped>\n",
       "    .dataframe tbody tr th:only-of-type {\n",
       "        vertical-align: middle;\n",
       "    }\n",
       "\n",
       "    .dataframe tbody tr th {\n",
       "        vertical-align: top;\n",
       "    }\n",
       "\n",
       "    .dataframe thead th {\n",
       "        text-align: right;\n",
       "    }\n",
       "</style>\n",
       "<table border=\"1\" class=\"dataframe\">\n",
       "  <thead>\n",
       "    <tr style=\"text-align: right;\">\n",
       "      <th></th>\n",
       "      <th>Vessel</th>\n",
       "      <th>Lat-Long</th>\n",
       "      <th>Last Update</th>\n",
       "      <th>City</th>\n",
       "      <th>State</th>\n",
       "    </tr>\n",
       "  </thead>\n",
       "  <tbody>\n",
       "    <tr>\n",
       "      <th>0</th>\n",
       "      <td>Brangus</td>\n",
       "      <td>39.37314, -74.42712</td>\n",
       "      <td>49 days ago</td>\n",
       "      <td>Atlantic City</td>\n",
       "      <td>NJ</td>\n",
       "    </tr>\n",
       "    <tr>\n",
       "      <th>1</th>\n",
       "      <td>Calcasieu River</td>\n",
       "      <td>32.76257, -79.92533</td>\n",
       "      <td>79 days ago</td>\n",
       "      <td>Charleston</td>\n",
       "      <td>SC</td>\n",
       "    </tr>\n",
       "    <tr>\n",
       "      <th>2</th>\n",
       "      <td>Cavalier State</td>\n",
       "      <td>32.02369, -81.04659</td>\n",
       "      <td>7 days ago</td>\n",
       "      <td>Thunderbolt</td>\n",
       "      <td>GA</td>\n",
       "    </tr>\n",
       "    <tr>\n",
       "      <th>3</th>\n",
       "      <td>Columbia River</td>\n",
       "      <td>30.39822, -81.54972</td>\n",
       "      <td>2 mins ago</td>\n",
       "      <td>Jacksonville</td>\n",
       "      <td>FL</td>\n",
       "    </tr>\n",
       "    <tr>\n",
       "      <th>4</th>\n",
       "      <td>Cooper River</td>\n",
       "      <td>32.83351, -79.93199</td>\n",
       "      <td>0 min ago</td>\n",
       "      <td>North Charleston</td>\n",
       "      <td>SC</td>\n",
       "    </tr>\n",
       "    <tr>\n",
       "      <th>5</th>\n",
       "      <td>East River</td>\n",
       "      <td>32.83273, -79.94228</td>\n",
       "      <td>28 mins ago</td>\n",
       "      <td>Charleston</td>\n",
       "      <td>SC</td>\n",
       "    </tr>\n",
       "    <tr>\n",
       "      <th>6</th>\n",
       "      <td>Evergreen State</td>\n",
       "      <td>26.76782, -80.04475</td>\n",
       "      <td>25 hours ago</td>\n",
       "      <td>Palm Beach</td>\n",
       "      <td>FL</td>\n",
       "    </tr>\n",
       "    <tr>\n",
       "      <th>7</th>\n",
       "      <td>Lone Star State</td>\n",
       "      <td>30.49491, -88.0194</td>\n",
       "      <td>197 days ago</td>\n",
       "      <td>Mobile County</td>\n",
       "      <td>AL</td>\n",
       "    </tr>\n",
       "    <tr>\n",
       "      <th>8</th>\n",
       "      <td>McCormack Boys</td>\n",
       "      <td>37.01095, -76.23765</td>\n",
       "      <td>27 days ago</td>\n",
       "      <td>Hampton City</td>\n",
       "      <td>VA</td>\n",
       "    </tr>\n",
       "    <tr>\n",
       "      <th>9</th>\n",
       "      <td>Miami River</td>\n",
       "      <td>31.10795, -81.43681</td>\n",
       "      <td>1 min ago</td>\n",
       "      <td>Brunswick</td>\n",
       "      <td>GA</td>\n",
       "    </tr>\n",
       "    <tr>\n",
       "      <th>10</th>\n",
       "      <td>Muskegon River</td>\n",
       "      <td>29.90247, -81.2992</td>\n",
       "      <td>2 hours ago</td>\n",
       "      <td>St. Augustine</td>\n",
       "      <td>FL</td>\n",
       "    </tr>\n",
       "    <tr>\n",
       "      <th>11</th>\n",
       "      <td>Ohio River</td>\n",
       "      <td>30.40362, -88.85803</td>\n",
       "      <td>9 mins ago</td>\n",
       "      <td>Biloxi</td>\n",
       "      <td>MS</td>\n",
       "    </tr>\n",
       "    <tr>\n",
       "      <th>12</th>\n",
       "      <td>Pearl River</td>\n",
       "      <td>32.72988, -79.82642</td>\n",
       "      <td>2 hours ago</td>\n",
       "      <td>Sullivan\"s Island</td>\n",
       "      <td>SC</td>\n",
       "    </tr>\n",
       "    <tr>\n",
       "      <th>13</th>\n",
       "      <td>Saginaw River</td>\n",
       "      <td>37.99439, -75.18645</td>\n",
       "      <td>18 days ago</td>\n",
       "      <td>Chincoteague</td>\n",
       "      <td>VA</td>\n",
       "    </tr>\n",
       "    <tr>\n",
       "      <th>14</th>\n",
       "      <td>St Johns River</td>\n",
       "      <td>32.82992, -79.93839</td>\n",
       "      <td>0 min ago</td>\n",
       "      <td>North Charleston</td>\n",
       "      <td>SC</td>\n",
       "    </tr>\n",
       "    <tr>\n",
       "      <th>15</th>\n",
       "      <td>St Louis River</td>\n",
       "      <td>26.93211, -80.04863</td>\n",
       "      <td>20 hours ago</td>\n",
       "      <td>Palm Beach County</td>\n",
       "      <td>FL</td>\n",
       "    </tr>\n",
       "    <tr>\n",
       "      <th>16</th>\n",
       "      <td>Volunteer State</td>\n",
       "      <td>39.38546, -74.42284</td>\n",
       "      <td>49 days ago</td>\n",
       "      <td>Atlantic City</td>\n",
       "      <td>NJ</td>\n",
       "    </tr>\n",
       "    <tr>\n",
       "      <th>17</th>\n",
       "      <td>Wolf River</td>\n",
       "      <td>34.58997, -76.74306</td>\n",
       "      <td>16 days ago</td>\n",
       "      <td>Carteret County</td>\n",
       "      <td>NC</td>\n",
       "    </tr>\n",
       "  </tbody>\n",
       "</table>\n",
       "</div>"
      ],
      "text/plain": [
       "             Vessel             Lat-Long   Last Update               City  \\\n",
       "0           Brangus  39.37314, -74.42712   49 days ago      Atlantic City   \n",
       "1   Calcasieu River  32.76257, -79.92533   79 days ago         Charleston   \n",
       "2    Cavalier State  32.02369, -81.04659    7 days ago        Thunderbolt   \n",
       "3    Columbia River  30.39822, -81.54972    2 mins ago       Jacksonville   \n",
       "4      Cooper River  32.83351, -79.93199     0 min ago   North Charleston   \n",
       "5        East River  32.83273, -79.94228   28 mins ago         Charleston   \n",
       "6   Evergreen State  26.76782, -80.04475  25 hours ago         Palm Beach   \n",
       "7   Lone Star State   30.49491, -88.0194  197 days ago      Mobile County   \n",
       "8    McCormack Boys  37.01095, -76.23765   27 days ago       Hampton City   \n",
       "9       Miami River  31.10795, -81.43681     1 min ago          Brunswick   \n",
       "10   Muskegon River   29.90247, -81.2992   2 hours ago      St. Augustine   \n",
       "11       Ohio River  30.40362, -88.85803    9 mins ago             Biloxi   \n",
       "12      Pearl River  32.72988, -79.82642   2 hours ago  Sullivan\"s Island   \n",
       "13    Saginaw River  37.99439, -75.18645   18 days ago       Chincoteague   \n",
       "14   St Johns River  32.82992, -79.93839     0 min ago   North Charleston   \n",
       "15   St Louis River  26.93211, -80.04863  20 hours ago  Palm Beach County   \n",
       "16  Volunteer State  39.38546, -74.42284   49 days ago      Atlantic City   \n",
       "17       Wolf River  34.58997, -76.74306   16 days ago    Carteret County   \n",
       "\n",
       "   State  \n",
       "0     NJ  \n",
       "1     SC  \n",
       "2     GA  \n",
       "3     FL  \n",
       "4     SC  \n",
       "5     SC  \n",
       "6     FL  \n",
       "7     AL  \n",
       "8     VA  \n",
       "9     GA  \n",
       "10    FL  \n",
       "11    MS  \n",
       "12    SC  \n",
       "13    VA  \n",
       "14    SC  \n",
       "15    FL  \n",
       "16    NJ  \n",
       "17    NC  "
      ]
     },
     "execution_count": 11,
     "metadata": {},
     "output_type": "execute_result"
    }
   ],
   "source": [
    "df"
   ]
  },
  {
   "cell_type": "markdown",
   "metadata": {},
   "source": [
    "Time units to consider for conversion:\n",
    "* day\n",
    "* min\n",
    "* hour"
   ]
  },
  {
   "cell_type": "code",
   "execution_count": 17,
   "metadata": {},
   "outputs": [
    {
     "name": "stdout",
     "output_type": "stream",
     "text": [
      "49 days ago False\n",
      "79 days ago False\n",
      "7 days ago False\n",
      "2 mins ago True\n",
      "0 min ago True\n",
      "28 mins ago True\n",
      "25 hours ago False\n",
      "197 days ago False\n",
      "27 days ago False\n",
      "1 min ago True\n",
      "2 hours ago False\n",
      "9 mins ago True\n",
      "2 hours ago False\n",
      "18 days ago False\n",
      "0 min ago True\n",
      "20 hours ago False\n",
      "49 days ago False\n",
      "16 days ago False\n"
     ]
    }
   ],
   "source": [
    "keyword = 'min'\n",
    "for file in df['Last Update']:\n",
    "    print(file, keyword in file)"
   ]
  },
  {
   "cell_type": "code",
   "execution_count": 20,
   "metadata": {},
   "outputs": [
    {
     "data": {
      "text/plain": [
       "'49 days ago'"
      ]
     },
     "execution_count": 20,
     "metadata": {},
     "output_type": "execute_result"
    }
   ],
   "source": [
    "test = df['Last Update'][0]\n",
    "test"
   ]
  },
  {
   "cell_type": "code",
   "execution_count": 26,
   "metadata": {},
   "outputs": [
    {
     "data": {
      "text/plain": [
       "49"
      ]
     },
     "execution_count": 26,
     "metadata": {},
     "output_type": "execute_result"
    }
   ],
   "source": [
    "number = ''.join(x for x in test if x.isdigit())\n",
    "number = int(number)\n",
    "number"
   ]
  },
  {
   "cell_type": "code",
   "execution_count": 27,
   "metadata": {},
   "outputs": [],
   "source": [
    "units = ['day','hour','min']"
   ]
  },
  {
   "cell_type": "code",
   "execution_count": 38,
   "metadata": {},
   "outputs": [],
   "source": [
    "def convert_time(last_update):\n",
    "    unit_to_minutes = {'day':24*60, 'hour': 60, 'min': 1}\n",
    "    \n",
    "    # Extract leading integer unit measurement\n",
    "    number = ''.join(x for x in test if x.isdigit())\n",
    "    number = int(number)\n",
    "    \n",
    "    for unit in unit_to_minutes:\n",
    "        if unit in last_update:\n",
    "            conversion = number * unit_to_minutes[unit]\n",
    "            return f'{conversion} minutes ago'\n",
    "    \n",
    "    return 'No valid units found'"
   ]
  },
  {
   "cell_type": "code",
   "execution_count": 39,
   "metadata": {},
   "outputs": [
    {
     "data": {
      "text/plain": [
       "'70560 minutes ago'"
      ]
     },
     "execution_count": 39,
     "metadata": {},
     "output_type": "execute_result"
    }
   ],
   "source": [
    "convert_time(test)"
   ]
  },
  {
   "cell_type": "code",
   "execution_count": null,
   "metadata": {},
   "outputs": [],
   "source": []
  },
  {
   "cell_type": "markdown",
   "metadata": {},
   "source": [
    "### Scratch Work (Script Refinement)"
   ]
  },
  {
   "cell_type": "code",
   "execution_count": 103,
   "metadata": {},
   "outputs": [],
   "source": [
    "import requests\n",
    "import time\n",
    "from bs4 import BeautifulSoup\n",
    "from csv import writer\n",
    "from geopy.geocoders import Nominatim\n",
    "\n",
    "agent = {\"User-Agent\":'Mozilla/5.0 (Windows NT 6.3; WOW64) AppleWebKit/537.36 (KHTML, like Gecko) Chrome/59.0.3071.115 Safari/537.36'}\n",
    "geolocator = Nominatim(user_agent=\"jwh\")\n",
    "url = 'https://www.vesselfinder.com/vessels/PEARL-RIVER-IMO-0-MMSI-367187120'"
   ]
  },
  {
   "cell_type": "code",
   "execution_count": 104,
   "metadata": {},
   "outputs": [],
   "source": [
    "response = requests.get(url, headers=agent)"
   ]
  },
  {
   "cell_type": "code",
   "execution_count": 105,
   "metadata": {},
   "outputs": [],
   "source": [
    "soup = BeautifulSoup(response.text,\"html.parser\")"
   ]
  },
  {
   "cell_type": "code",
   "execution_count": 106,
   "metadata": {},
   "outputs": [
    {
     "data": {
      "text/plain": [
       "[<table class=\"tparams npctable\">\n",
       " <thead><tr class=\"table-header\"><th class=\"v31\">Current AIS Destination</th><th class=\"v31\">Estimated Time of Arrival</th></tr></thead>\n",
       " <tbody>\n",
       " <tr><td class=\"n3ata\">-</td><td class=\"n3ata\">-</td></tr>\n",
       " </tbody>\n",
       " </table>,\n",
       " <table class=\"tparams\">\n",
       " <thead><tr><th class=\"text1\">Port</th><th class=\"text1\">Arrival (UTC)</th><th class=\"text1\">In Port</th></tr></thead>\n",
       " <tbody class=\"pctable\" id=\"port-calls\"></tbody></table>,\n",
       " <table class=\"tparams\"><tbody>\n",
       " <tr><td class=\"n3\">AIS Type</td><td class=\"v3\">Resolution 18 ship</td></tr>\n",
       " <tr><td class=\"n3\">Flag</td><td class=\"v3\">USA</td></tr>\n",
       " <tr><td class=\"n3\">Destination</td><td class=\"v3\">-</td></tr>\n",
       " <tr><td class=\"n3\">ETA</td><td class=\"v3\">-</td></tr>\n",
       " <tr><td class=\"n3\">IMO / MMSI</td><td class=\"v3\"> -  / 367187120</td></tr>\n",
       " <tr><td class=\"n3\">Callsign</td><td class=\"v3\">WDD7486</td></tr>\n",
       " <tr><td class=\"n3\">Length / Beam</td><td class=\"v3\">-</td></tr>\n",
       " <tr><td class=\"n3\">Current draught</td><td class=\"v3\">2.0 m</td></tr>\n",
       " <tr><td class=\"n3\">Course / Speed</td><td class=\"v3\">123.2° / 18.7 kn</td></tr>\n",
       " <tr><td class=\"n3\">Coordinates</td><td class=\"v3\">32.72988 N/79.82642 W</td></tr>\n",
       " <tr><td class=\"n3\">Status</td><td class=\"v3 tooltip expand\" data-title=\"Restricted maneuverability\">Restricted</td></tr>\n",
       " <tr><td class=\"n3\">Position received</td>\n",
       " <td class=\"v3 tooltip expand\" data-title=\"Dec 29, 2020 13:27 UTC\" id=\"lastrep\"><span class=\"\">58 mins ago </span> <span class=\"info\"><i>i</i></span></td>\n",
       " </tr>\n",
       " <tr class=\"srow\"><td class=\"sath\" colspan=\"2\"><a class=\"satBtn\" href=\"/satellite-ais\" onclick=\"this.blur()\" target=\"_blank\">Newer position via Satellite</a></td></tr>\n",
       " </tbody></table>]"
      ]
     },
     "execution_count": 106,
     "metadata": {},
     "output_type": "execute_result"
    }
   ],
   "source": [
    "soup.find_all('table')"
   ]
  },
  {
   "cell_type": "code",
   "execution_count": 107,
   "metadata": {},
   "outputs": [],
   "source": [
    "table = soup.find_all(class_='v3')\n",
    "time_since_last_position = table[11].get_text() # coordinate row\n",
    "cleaned_time = time_since_last_position[:-3]"
   ]
  },
  {
   "cell_type": "code",
   "execution_count": 108,
   "metadata": {},
   "outputs": [
    {
     "data": {
      "text/plain": [
       "'58 mins ago'"
      ]
     },
     "execution_count": 108,
     "metadata": {},
     "output_type": "execute_result"
    }
   ],
   "source": [
    "cleaned_time"
   ]
  },
  {
   "cell_type": "code",
   "execution_count": 109,
   "metadata": {},
   "outputs": [
    {
     "name": "stdout",
     "output_type": "stream",
     "text": [
      "32.72988, -79.82642\n"
     ]
    }
   ],
   "source": [
    "# Find current lat, lon coordinates\n",
    "table = soup.find_all(class_='v3')\n",
    "coords = table[9] # coordinate row\n",
    "text = coords.get_text() # Text from coordinate row\n",
    "latlon = text.split('/')\n",
    "latlon_clean = [val[:-2] for val in latlon]\n",
    "latlon_clean[1] = '-'+latlon_clean[1]  \n",
    "position = ', '.join(latlon_clean)\n",
    "\n",
    "# Reverse lat-lon lookup, giving address\n",
    "physical = geolocator.reverse(position)\n",
    "\n",
    "location = physical.address\n",
    "\n",
    "# Isolate town, state\n",
    "# vessel_raw = physical.raw\n",
    "# town = vessel_raw['address']['town']\n",
    "# state = vessel_raw['address']['state']\n",
    "\n",
    "print(position)"
   ]
  },
  {
   "cell_type": "code",
   "execution_count": 110,
   "metadata": {
    "scrolled": true
   },
   "outputs": [
    {
     "name": "stdout",
     "output_type": "stream",
     "text": [
      "{'place_id': 2514707, 'licence': 'Data © OpenStreetMap contributors, ODbL 1.0. https://osm.org/copyright', 'osm_type': 'node', 'osm_id': 357089972, 'lat': '32.7651767', 'lon': '-79.8367511', 'display_name': 'Sullivan\\'s Island, Sullivan\"s Island, Charleston County, South Carolina, 29482, United States', 'address': {'place': \"Sullivan's Island\", 'town': 'Sullivan\"s Island', 'county': 'Charleston County', 'state': 'South Carolina', 'postcode': '29482', 'country': 'United States', 'country_code': 'us'}, 'boundingbox': ['32.4451767', '33.0851767', '-80.1567511', '-79.5167511']}\n"
     ]
    }
   ],
   "source": [
    "vessel_raw = physical.raw\n",
    "print(vessel_raw)"
   ]
  },
  {
   "cell_type": "code",
   "execution_count": 77,
   "metadata": {},
   "outputs": [
    {
     "data": {
      "text/plain": [
       "True"
      ]
     },
     "execution_count": 77,
     "metadata": {},
     "output_type": "execute_result"
    }
   ],
   "source": [
    "'village' in vessel_raw['address']"
   ]
  },
  {
   "cell_type": "code",
   "execution_count": 57,
   "metadata": {},
   "outputs": [
    {
     "ename": "KeyError",
     "evalue": "'town'",
     "output_type": "error",
     "traceback": [
      "\u001b[1;31m---------------------------------------------------------------------------\u001b[0m",
      "\u001b[1;31mKeyError\u001b[0m                                  Traceback (most recent call last)",
      "\u001b[1;32m<ipython-input-57-b4bdedff340c>\u001b[0m in \u001b[0;36m<module>\u001b[1;34m\u001b[0m\n\u001b[1;32m----> 1\u001b[1;33m \u001b[0mtown\u001b[0m \u001b[1;33m=\u001b[0m \u001b[0mvessel_raw\u001b[0m\u001b[1;33m[\u001b[0m\u001b[1;34m'address'\u001b[0m\u001b[1;33m]\u001b[0m\u001b[1;33m[\u001b[0m\u001b[1;34m'town'\u001b[0m\u001b[1;33m]\u001b[0m\u001b[1;33m\u001b[0m\u001b[1;33m\u001b[0m\u001b[0m\n\u001b[0m\u001b[0;32m      2\u001b[0m \u001b[0mstate\u001b[0m \u001b[1;33m=\u001b[0m \u001b[0mvessel_raw\u001b[0m\u001b[1;33m[\u001b[0m\u001b[1;34m'address'\u001b[0m\u001b[1;33m]\u001b[0m\u001b[1;33m[\u001b[0m\u001b[1;34m'state'\u001b[0m\u001b[1;33m]\u001b[0m\u001b[1;33m\u001b[0m\u001b[1;33m\u001b[0m\u001b[0m\n",
      "\u001b[1;31mKeyError\u001b[0m: 'town'"
     ]
    }
   ],
   "source": [
    "town = vessel_raw['address']['town']\n",
    "state = vessel_raw['address']['state']"
   ]
  },
  {
   "cell_type": "code",
   "execution_count": 62,
   "metadata": {},
   "outputs": [],
   "source": [
    "def get_city(raw):\n",
    "    if 'city' in vessel_raw['address']:\n",
    "        town = raw['address']['city']\n",
    "    elif 'town' in vessel_raw['address']:\n",
    "        town = raw['address']['town']\n",
    "    else:\n",
    "        town = 'Error'\n",
    "    \n",
    "    return town"
   ]
  },
  {
   "cell_type": "code",
   "execution_count": 64,
   "metadata": {},
   "outputs": [
    {
     "data": {
      "text/plain": [
       "'Atlantic City'"
      ]
     },
     "execution_count": 64,
     "metadata": {},
     "output_type": "execute_result"
    }
   ],
   "source": [
    "get_city(vessel_raw)"
   ]
  },
  {
   "cell_type": "code",
   "execution_count": 60,
   "metadata": {
    "scrolled": true
   },
   "outputs": [
    {
     "data": {
      "text/plain": [
       "True"
      ]
     },
     "execution_count": 60,
     "metadata": {},
     "output_type": "execute_result"
    }
   ],
   "source": [
    "'city' in vessel_raw['address']"
   ]
  },
  {
   "cell_type": "code",
   "execution_count": 61,
   "metadata": {},
   "outputs": [
    {
     "data": {
      "text/plain": [
       "False"
      ]
     },
     "execution_count": 61,
     "metadata": {},
     "output_type": "execute_result"
    }
   ],
   "source": [
    "'town' in vessel_raw['address']"
   ]
  },
  {
   "cell_type": "code",
   "execution_count": null,
   "metadata": {},
   "outputs": [],
   "source": []
  },
  {
   "cell_type": "code",
   "execution_count": null,
   "metadata": {},
   "outputs": [],
   "source": []
  },
  {
   "cell_type": "code",
   "execution_count": 25,
   "metadata": {
    "scrolled": true
   },
   "outputs": [
    {
     "data": {
      "text/plain": [
       "'Brunswick'"
      ]
     },
     "execution_count": 25,
     "metadata": {},
     "output_type": "execute_result"
    }
   ],
   "source": [
    "town"
   ]
  },
  {
   "cell_type": "code",
   "execution_count": 40,
   "metadata": {},
   "outputs": [],
   "source": [
    "state = 'Georgia'"
   ]
  },
  {
   "cell_type": "code",
   "execution_count": 41,
   "metadata": {},
   "outputs": [
    {
     "data": {
      "text/plain": [
       "'Georgia'"
      ]
     },
     "execution_count": 41,
     "metadata": {},
     "output_type": "execute_result"
    }
   ],
   "source": [
    "state"
   ]
  },
  {
   "cell_type": "code",
   "execution_count": 42,
   "metadata": {},
   "outputs": [],
   "source": [
    "def abbreviate_state(state):\n",
    "    state_dict = {\n",
    "    'Alabama': 'AL',\n",
    "    'Alaska': 'AK',\n",
    "    'American Samoa': 'AS',\n",
    "    'Arizona': 'AZ',\n",
    "    'Arkansas': 'AR',\n",
    "    'California': 'CA',\n",
    "    'Colorado': 'CO',\n",
    "    'Connecticut': 'CT',\n",
    "    'Delaware': 'DE',\n",
    "    'District of Columbia': 'DC',\n",
    "    'Florida': 'FL',\n",
    "    'Georgia': 'GA',\n",
    "    'Guam': 'GU',\n",
    "    'Hawaii': 'HI',\n",
    "    'Idaho': 'ID',\n",
    "    'Illinois': 'IL',\n",
    "    'Indiana': 'IN',\n",
    "    'Iowa': 'IA',\n",
    "    'Kansas': 'KS',\n",
    "    'Kentucky': 'KY',\n",
    "    'Louisiana': 'LA',\n",
    "    'Maine': 'ME',\n",
    "    'Maryland': 'MD',\n",
    "    'Massachusetts': 'MA',\n",
    "    'Michigan': 'MI',\n",
    "    'Minnesota': 'MN',\n",
    "    'Mississippi': 'MS',\n",
    "    'Missouri': 'MO',\n",
    "    'Montana': 'MT',\n",
    "    'Nebraska': 'NE',\n",
    "    'Nevada': 'NV',\n",
    "    'New Hampshire': 'NH',\n",
    "    'New Jersey': 'NJ',\n",
    "    'New Mexico': 'NM',\n",
    "    'New York': 'NY',\n",
    "    'North Carolina': 'NC',\n",
    "    'North Dakota': 'ND',\n",
    "    'Northern Mariana Islands':'MP',\n",
    "    'Ohio': 'OH',\n",
    "    'Oklahoma': 'OK',\n",
    "    'Oregon': 'OR',\n",
    "    'Pennsylvania': 'PA',\n",
    "    'Puerto Rico': 'PR',\n",
    "    'Rhode Island': 'RI',\n",
    "    'South Carolina': 'SC',\n",
    "    'South Dakota': 'SD',\n",
    "    'Tennessee': 'TN',\n",
    "    'Texas': 'TX',\n",
    "    'Utah': 'UT',\n",
    "    'Vermont': 'VT',\n",
    "    'Virgin Islands': 'VI',\n",
    "    'Virginia': 'VA',\n",
    "    'Washington': 'WA',\n",
    "    'West Virginia': 'WV',\n",
    "    'Wisconsin': 'WI',\n",
    "    'Wyoming': 'WY'\n",
    "}\n",
    "    if state in state_dict:\n",
    "        state = state_dict[state]\n",
    "    return state"
   ]
  },
  {
   "cell_type": "code",
   "execution_count": 45,
   "metadata": {},
   "outputs": [
    {
     "data": {
      "text/plain": [
       "'HAJAKJSALKDJ'"
      ]
     },
     "execution_count": 45,
     "metadata": {},
     "output_type": "execute_result"
    }
   ],
   "source": [
    "abbreviate_state('HAJAKJSALKDJ')"
   ]
  },
  {
   "cell_type": "code",
   "execution_count": 31,
   "metadata": {},
   "outputs": [],
   "source": [
    "if state in state_dict:\n",
    "    state = state_dict[state]"
   ]
  },
  {
   "cell_type": "code",
   "execution_count": 32,
   "metadata": {},
   "outputs": [
    {
     "data": {
      "text/plain": [
       "'GA'"
      ]
     },
     "execution_count": 32,
     "metadata": {},
     "output_type": "execute_result"
    }
   ],
   "source": [
    "state"
   ]
  },
  {
   "cell_type": "code",
   "execution_count": 28,
   "metadata": {},
   "outputs": [],
   "source": []
  },
  {
   "cell_type": "code",
   "execution_count": 29,
   "metadata": {},
   "outputs": [
    {
     "data": {
      "text/plain": [
       "56"
      ]
     },
     "execution_count": 29,
     "metadata": {},
     "output_type": "execute_result"
    }
   ],
   "source": [
    "len(state_dict)"
   ]
  },
  {
   "cell_type": "code",
   "execution_count": 3,
   "metadata": {},
   "outputs": [],
   "source": [
    "import time\n",
    "timestamp = time.strftime('%Y%m%d-%I_%M_%p')\n",
    "\n",
    "filename = 'fleet-position-data/' + timestamp + '-Fleet Location.csv'"
   ]
  },
  {
   "cell_type": "code",
   "execution_count": 4,
   "metadata": {},
   "outputs": [
    {
     "data": {
      "text/plain": [
       "'fleet-position-data/20201229-09_48_AM-Fleet Location.csv'"
      ]
     },
     "execution_count": 4,
     "metadata": {},
     "output_type": "execute_result"
    }
   ],
   "source": [
    "filename"
   ]
  },
  {
   "cell_type": "markdown",
   "metadata": {},
   "source": [
    "### Data Directory Manipulation"
   ]
  },
  {
   "cell_type": "code",
   "execution_count": 5,
   "metadata": {},
   "outputs": [],
   "source": [
    "import os\n",
    "\n",
    "DATA_DIR = 'data'"
   ]
  },
  {
   "cell_type": "code",
   "execution_count": 6,
   "metadata": {},
   "outputs": [],
   "source": [
    "import os\n",
    "\n",
    "DATA_DIR = 'data'\n",
    "os.makedirs(DATA_DIR, exist_ok=True)\n",
    "\n",
    "timestamp = time.strftime('%Y%m%d-%I_%M_%p')\n",
    "filename = timestamp + '-Fleet Location.csv'\n",
    "scrape_file = os.path.join(DATA_DIR, filename)\n",
    "\n",
    "# with open(scrape_file)"
   ]
  },
  {
   "cell_type": "code",
   "execution_count": null,
   "metadata": {},
   "outputs": [],
   "source": [
    "timestamp = time.strftime('%Y%m%d-%I_%M_%p')\n",
    "\n",
    "\n",
    "filename = timestamp + '-Fleet Location.csv'\n",
    "file_dir = os.path.join('data',filename)"
   ]
  },
  {
   "cell_type": "code",
   "execution_count": null,
   "metadata": {},
   "outputs": [],
   "source": []
  }
 ],
 "metadata": {
  "kernelspec": {
   "display_name": "Python 3",
   "language": "python",
   "name": "python3"
  },
  "language_info": {
   "codemirror_mode": {
    "name": "ipython",
    "version": 3
   },
   "file_extension": ".py",
   "mimetype": "text/x-python",
   "name": "python",
   "nbconvert_exporter": "python",
   "pygments_lexer": "ipython3",
   "version": "3.9.1"
  }
 },
 "nbformat": 4,
 "nbformat_minor": 4
}
