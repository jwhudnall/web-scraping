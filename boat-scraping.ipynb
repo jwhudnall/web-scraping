{
 "cells": [
  {
   "cell_type": "markdown",
   "metadata": {},
   "source": [
    "# Boat Scraping"
   ]
  },
  {
   "cell_type": "code",
   "execution_count": 51,
   "metadata": {},
   "outputs": [],
   "source": [
    "import requests\n",
    "from bs4 import BeautifulSoup\n",
    "from csv import writer\n",
    "\n",
    "agent = {\"User-Agent\":'Mozilla/5.0 (Windows NT 6.3; WOW64) AppleWebKit/537.36 (KHTML, like Gecko) Chrome/59.0.3071.115 Safari/537.36'}\n",
    "response = requests.get(url, headers=agent)\n",
    "soup = BeautifulSoup(response.text,\"html.parser\")"
   ]
  },
  {
   "cell_type": "code",
   "execution_count": 52,
   "metadata": {},
   "outputs": [],
   "source": [
    "soup = BeautifulSoup(response.text,\"html.parser\")"
   ]
  },
  {
   "cell_type": "code",
   "execution_count": 3,
   "metadata": {},
   "outputs": [],
   "source": [
    "#soup.find_all('table')"
   ]
  },
  {
   "cell_type": "markdown",
   "metadata": {},
   "source": [
    "# Need to make `latlon_clean[1]` Negative"
   ]
  },
  {
   "cell_type": "code",
   "execution_count": 53,
   "metadata": {
    "scrolled": true
   },
   "outputs": [],
   "source": [
    "table = soup.find_all(class_='v3')\n",
    "coords = table[9] # coordinate row\n",
    "text = coords.get_text() # Text from coordinate row\n",
    "latlon = text.split('/')\n",
    "latlon_clean = [val[:-2] for val in latlon]\n",
    "latlon_clean[1] = '-'+latlon_clean[1]  \n",
    "position = ', '.join(latlon_clean)"
   ]
  },
  {
   "cell_type": "code",
   "execution_count": 54,
   "metadata": {},
   "outputs": [
    {
     "data": {
      "text/plain": [
       "<td class=\"v3\">32.02369 N/81.04659 W</td>"
      ]
     },
     "execution_count": 54,
     "metadata": {},
     "output_type": "execute_result"
    }
   ],
   "source": [
    "coords"
   ]
  },
  {
   "cell_type": "code",
   "execution_count": 55,
   "metadata": {},
   "outputs": [
    {
     "data": {
      "text/plain": [
       "'32.02369 N/81.04659 W'"
      ]
     },
     "execution_count": 55,
     "metadata": {},
     "output_type": "execute_result"
    }
   ],
   "source": [
    "text"
   ]
  },
  {
   "cell_type": "code",
   "execution_count": 56,
   "metadata": {},
   "outputs": [
    {
     "data": {
      "text/plain": [
       "['32.02369 N', '81.04659 W']"
      ]
     },
     "execution_count": 56,
     "metadata": {},
     "output_type": "execute_result"
    }
   ],
   "source": [
    "latlon"
   ]
  },
  {
   "cell_type": "code",
   "execution_count": 57,
   "metadata": {},
   "outputs": [
    {
     "data": {
      "text/plain": [
       "['32.02369', '-81.04659']"
      ]
     },
     "execution_count": 57,
     "metadata": {},
     "output_type": "execute_result"
    }
   ],
   "source": [
    "latlon_clean"
   ]
  },
  {
   "cell_type": "code",
   "execution_count": 58,
   "metadata": {},
   "outputs": [
    {
     "data": {
      "text/plain": [
       "'32.02369, -81.04659'"
      ]
     },
     "execution_count": 58,
     "metadata": {},
     "output_type": "execute_result"
    }
   ],
   "source": [
    "position"
   ]
  },
  {
   "cell_type": "markdown",
   "metadata": {},
   "source": [
    "## Reverse Address Lookup Using Lat/Long\n",
    "`geopy` can reverse lookup an address from the lat/lon values."
   ]
  },
  {
   "cell_type": "code",
   "execution_count": 59,
   "metadata": {},
   "outputs": [],
   "source": [
    "from geopy.geocoders import Nominatim\n",
    "geolocator = Nominatim(user_agent=\"jwh\")\n",
    "physical = geolocator.reverse(position)\n",
    "location = physical.address"
   ]
  },
  {
   "cell_type": "code",
   "execution_count": 63,
   "metadata": {},
   "outputs": [
    {
     "data": {
      "text/plain": [
       "Location(Thunderbolt Marine Inc. Warehouse, 3124, River Drive, Thunderbolt, Chatham County, Georgia, 31404, United States, (32.0222342, -81.04666794933618, 0.0))"
      ]
     },
     "execution_count": 63,
     "metadata": {},
     "output_type": "execute_result"
    }
   ],
   "source": [
    "physical"
   ]
  },
  {
   "cell_type": "code",
   "execution_count": 61,
   "metadata": {},
   "outputs": [
    {
     "data": {
      "text/plain": [
       "'Thunderbolt Marine Inc. Warehouse, 3124, River Drive, Thunderbolt, Chatham County, Georgia, 31404, United States'"
      ]
     },
     "execution_count": 61,
     "metadata": {},
     "output_type": "execute_result"
    }
   ],
   "source": [
    "location"
   ]
  },
  {
   "cell_type": "code",
   "execution_count": 64,
   "metadata": {},
   "outputs": [
    {
     "data": {
      "text/plain": [
       "geopy.location.Location"
      ]
     },
     "execution_count": 64,
     "metadata": {},
     "output_type": "execute_result"
    }
   ],
   "source": [
    "type(physical)"
   ]
  },
  {
   "cell_type": "markdown",
   "metadata": {},
   "source": [
    "## Adding Time Delays\n",
    "We don't want to flood the website with traffic. \n",
    "\n",
    "`time.sleep(n)` pauses the code for n seconds"
   ]
  },
  {
   "cell_type": "code",
   "execution_count": 49,
   "metadata": {},
   "outputs": [
    {
     "name": "stdout",
     "output_type": "stream",
     "text": [
      "Start!\n",
      "Ok...its been long enough!\n"
     ]
    }
   ],
   "source": [
    "import time\n",
    "print('Start!')\n",
    "time.sleep(3)\n",
    "print('Ok...its been long enough!')"
   ]
  },
  {
   "cell_type": "markdown",
   "metadata": {},
   "source": [
    "## Putting it All Together\n",
    "Time to compile the entire script, including vessel URL dictionaries"
   ]
  },
  {
   "cell_type": "code",
   "execution_count": 90,
   "metadata": {},
   "outputs": [
    {
     "name": "stdout",
     "output_type": "stream",
     "text": [
      "This script took 55.678189754486084 seconds to run\n"
     ]
    }
   ],
   "source": [
    "import requests\n",
    "import time\n",
    "from bs4 import BeautifulSoup\n",
    "from csv import writer\n",
    "from geopy.geocoders import Nominatim\n",
    "\n",
    "\n",
    "agent = {\"User-Agent\":'Mozilla/5.0 (Windows NT 6.3; WOW64) AppleWebKit/537.36 (KHTML, like Gecko) Chrome/59.0.3071.115 Safari/537.36'}\n",
    "geolocator = Nominatim(user_agent=\"jwh\")\n",
    "boats = {\n",
    "    \"Brangus\": \"https://www.vesselfinder.com/vessels/BRANGUS-IMO-0-MMSI-366899270\",\n",
    "    \"Calcasieu River\": \"https://www.vesselfinder.com/vessels/CALCASIEU-RIVER-IMO-0-MMSI-367313850\",\n",
    "    \"Cavalier State\": \"https://www.vesselfinder.com/vessels/CAVALIER-STATE-IMO-0-MMSI-367340130\",\n",
    "    \"Columbia River\": \"https://www.vesselfinder.com/vessels/COLUMBIA-RIVER-IMO-0-MMSI-367187130\",\n",
    "    \"Cooper River\": \"https://www.vesselfinder.com/vessels/COOPER-RIVER-IMO-0-MMSI-366867370\",\n",
    "    \"East River\": \"https://www.vesselfinder.com/vessels/EAST-RIVER-IMO-0-MMSI-366898790\",\n",
    "    \"Evergreen State\": \"https://www.vesselfinder.com/vessels/EVERGREEN-STATE-IMO-0-MMSI-367156370\",\n",
    "    \"Lone Star State\": \"https://www.vesselfinder.com/vessels/LONESTAR-STATE-IMO-0-MMSI-367183730\",\n",
    "    \"McCormack Boys\": \"https://www.vesselfinder.com/vessels/MCCORMACK-BOYS-IMO-0-MMSI-366872170\",\n",
    "    \"Miami River\": \"https://www.vesselfinder.com/vessels/MIAMI-RIVER-IMO-0-MMSI-366898810\",\n",
    "    \"Muskegon River\": \"https://www.vesselfinder.com/vessels/MUSKEGON-RIVER-IMO-0-MMSI-367509760\",\n",
    "    \"Ohio River\": \"https://www.vesselfinder.com/vessels/OHIO-RIVER-IMO-0-MMSI-366899290\",\n",
    "    \"Pearl River\": \"https://www.vesselfinder.com/vessels/PEARL-RIVER-IMO-0-MMSI-367187120\",\n",
    "    \"Saginaw River\": \"https://www.vesselfinder.com/vessels/SAGINAW-RIVER-IMO-0-MMSI-367511230\",\n",
    "    \"St Johns River\": \"https://www.vesselfinder.com/vessels/SAINT-JOHNS-RIVER-IMO-0-MMSI-367313760\",\n",
    "    \"Volunteer State\": \"https://www.vesselfinder.com/vessels/VOLUNTEER-STATE-IMO-0-MMSI-367314110\",\n",
    "    \"Wolf River\": \"https://www.vesselfinder.com/vessels/WOLF-RIVER-IMO-0-MMSI-367060910\"\n",
    "    }\n",
    "timestamp = time.strftime('%Y%m%d-%I_%M_%p')\n",
    "filename = timestamp + '-Fleet Location.csv'\n",
    "\n",
    "start = time.time()\n",
    "\n",
    "with open(filename, 'w', newline='') as file:\n",
    "    csv_writer = writer(file)\n",
    "    \n",
    "    # Add Headers\n",
    "    csv_writer.writerow(['Vessel', 'Lat-Long','Address'])\n",
    "    \n",
    "    for boat, url in boats.items():\n",
    "        response = requests.get(url, headers=agent)\n",
    "        soup = BeautifulSoup(response.text,\"html.parser\")\n",
    "        \n",
    "        # Find current lat, lon coordinates\n",
    "        table = soup.find_all(class_='v3')\n",
    "        coords = table[9] # coordinate row\n",
    "        text = coords.get_text() # Text from coordinate row\n",
    "        latlon = text.split('/')\n",
    "        latlon_clean = [val[:-2] for val in latlon]\n",
    "        latlon_clean[1] = '-'+latlon_clean[1]  \n",
    "        position = ', '.join(latlon_clean)\n",
    "        \n",
    "        # Reverse lat-lon lookup, giving address\n",
    "        physical = geolocator.reverse(position)\n",
    "        location = physical.address\n",
    "        \n",
    "        # Write results to spreadsheet row\n",
    "        csv_writer.writerow([boat, position, location])\n",
    "        \n",
    "        # Wait n seconds in between requests\n",
    "        time.sleep(2)\n",
    "        \n",
    "end = time.time()\n",
    "duration = end - start\n",
    "\n",
    "print(f'This script took {duration} seconds to run')"
   ]
  }
 ],
 "metadata": {
  "kernelspec": {
   "display_name": "Python 3",
   "language": "python",
   "name": "python3"
  },
  "language_info": {
   "codemirror_mode": {
    "name": "ipython",
    "version": 3
   },
   "file_extension": ".py",
   "mimetype": "text/x-python",
   "name": "python",
   "nbconvert_exporter": "python",
   "pygments_lexer": "ipython3",
   "version": "3.9.1"
  }
 },
 "nbformat": 4,
 "nbformat_minor": 4
}
